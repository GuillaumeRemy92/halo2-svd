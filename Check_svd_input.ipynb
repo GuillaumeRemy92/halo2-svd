{
 "cells": [
  {
   "cell_type": "code",
   "execution_count": 2,
   "id": "a41abfdd",
   "metadata": {},
   "outputs": [],
   "source": [
    "import numpy.linalg as lin\n",
    "import random\n",
    "import itertools\n",
    "import math\n",
    "import numpy as np\n"
   ]
  },
  {
   "cell_type": "code",
   "execution_count": 3,
   "id": "6ddaf5ce",
   "metadata": {},
   "outputs": [],
   "source": [
    "def ran_mat(n):\n",
    "    mat = []\n",
    "    for i in range(0,n):\n",
    "        line = []\n",
    "        for j in range(0,n):\n",
    "            #r = random.randint(-1000, 1000)\n",
    "            r = random.uniform(-10, 10)\n",
    "            line = line + [r]\n",
    "        mat = mat + [line]\n",
    "    return mat\n",
    "\n"
   ]
  },
  {
   "cell_type": "code",
   "execution_count": 4,
   "id": "524ce42e",
   "metadata": {},
   "outputs": [],
   "source": [
    "mat_ran = ran_mat(100)\n"
   ]
  },
  {
   "cell_type": "code",
   "execution_count": 5,
   "id": "4d3b4e4d",
   "metadata": {},
   "outputs": [],
   "source": [
    "U, D, V = lin.svd(mat_ran)\n",
    "U = U.tolist()\n",
    "V = V.tolist()\n",
    "D = D.tolist()"
   ]
  },
  {
   "cell_type": "code",
   "execution_count": 6,
   "id": "1c7444e2",
   "metadata": {},
   "outputs": [],
   "source": [
    "dict_svd = {\"m\": mat_ran, \"u\": U, \"d\": D, \"v\": V}\n"
   ]
  },
  {
   "cell_type": "code",
   "execution_count": 150,
   "id": "8274b587",
   "metadata": {},
   "outputs": [],
   "source": [
    "import json\n",
    "\n",
    "json_file_path = \"/Users/gremy/Code/Rust_projects/halo2_test/halo2-scaffold/data/matrix.in\"\n",
    "\n",
    "with open(json_file_path, 'w') as json_file:\n",
    "    # Write the dictionary to the JSON file\n",
    "    json.dump(dict_svd, json_file)"
   ]
  },
  {
   "cell_type": "code",
   "execution_count": null,
   "id": "46c6f432",
   "metadata": {},
   "outputs": [],
   "source": []
  }
 ],
 "metadata": {
  "kernelspec": {
   "display_name": "Python 3 (ipykernel)",
   "language": "python",
   "name": "python3"
  },
  "language_info": {
   "codemirror_mode": {
    "name": "ipython",
    "version": 3
   },
   "file_extension": ".py",
   "mimetype": "text/x-python",
   "name": "python",
   "nbconvert_exporter": "python",
   "pygments_lexer": "ipython3",
   "version": "3.8.13"
  }
 },
 "nbformat": 4,
 "nbformat_minor": 5
}
